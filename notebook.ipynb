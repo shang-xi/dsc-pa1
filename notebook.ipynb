{
 "cells": [
  {
   "cell_type": "code",
   "execution_count": 1,
   "id": "4ba99179",
   "metadata": {},
   "outputs": [
    {
     "name": "stdout",
     "output_type": "stream",
     "text": [
      "<Client: 'tcp://127.0.0.1:38803' processes=1 threads=4, memory=16.78 GB>\n"
     ]
    },
    {
     "name": "stderr",
     "output_type": "stream",
     "text": [
      "/home/ubuntu/dask_env/lib/python3.6/site-packages/dask/dataframe/multi.py:1193: UserWarning: Concatenating dataframes with unknown divisions.\n",
      "We're assuming that the indices of each dataframes are \n",
      " aligned. This assumption is not generally safe.\n",
      "  \"Concatenating dataframes with unknown divisions.\\n\"\n",
      "/home/ubuntu/dask_env/lib/python3.6/site-packages/dask/dataframe/core.py:3370: UserWarning: \n",
      "You did not provide metadata, so Dask is running your function on a small dataset to guess output types. It is possible that Dask will guess incorrectly.\n",
      "To provide an explicit output types or to silence this message, please provide the `meta=` keyword, as described in the map or apply function that you are using.\n",
      "  Before: .apply(func)\n",
      "  After:  .apply(func, meta=('categories', 'object'))\n",
      "\n",
      "  warnings.warn(meta_warning(meta))\n"
     ]
    },
    {
     "data": {
      "text/plain": [
       "1.6312506198883057"
      ]
     },
     "execution_count": 1,
     "metadata": {},
     "output_type": "execute_result"
    }
   ],
   "source": [
    "from cProfile import run\n",
    "from dask.distributed import Client, LocalCluster\n",
    "import time\n",
    "import json\n",
    "import csv\n",
    "from datetime import datetime\n",
    "import dask.dataframe as dd\n",
    "\n",
    "def PA1(user_reviews_csv,products_csv):\n",
    "    start = time.time()\n",
    "    client = Client(n_workers=1, threads_per_worker=4, processes=True, memory_limit='18GB')\n",
    "    client = client.restart()\n",
    "    print(client)\n",
    "    \n",
    "    # Q1\n",
    "    df_reviews = dd.read_csv(user_reviews_csv)\n",
    "    df_products = dd.read_csv(products_csv)\n",
    "\n",
    "    q1_reviews = df_reviews.isna().mean()\n",
    "    q1_products = df_products.isna().mean()\n",
    "    \n",
    "    #Q2\n",
    "    asin_rating = df_reviews.groupby('asin').aggregate({\n",
    "        'overall' : 'mean'\n",
    "    })\n",
    "    asin_rating.columns = ['avg_rating']\n",
    "    asin_price = df_products.groupby('asin').aggregate({\n",
    "        'price' : 'sum'\n",
    "    })\n",
    "    #print(asin_rating.head())\n",
    "    #print(asin_price.head())\n",
    "    asin_merged = dd.merge(asin_rating, asin_price, on='asin').dropna()\n",
    "    #print(asin_merged.head())\n",
    "    q2 = asin_merged['price'].corr(asin_merged['avg_rating'])\n",
    "    # This will make more sense on larger datasets.\n",
    "    \n",
    "    #Q3\n",
    "    q3 = [\n",
    "        asin_price['price'].mean(),\n",
    "        asin_price['price'].std(),\n",
    "        asin_price['price'].quantile(0.5),\n",
    "        asin_price['price'].min(),\n",
    "        asin_price['price'].max()\n",
    "    ]\n",
    "    \n",
    "    #Q4\n",
    "    \n",
    "    def extract_super_category(row):\n",
    "        row = str(row)\n",
    "        if len(row) <= 4:\n",
    "            return None\n",
    "        reader = csv.reader([row[2:-2]], delimiter=',', quotechar='\\'')\n",
    "        categories = next(reader)\n",
    "        if categories:\n",
    "            return categories[0]\n",
    "    df_products['super_category'] = df_products['categories'].apply(extract_super_category)\n",
    "    \n",
    "    #print(df_products['super_category'].head())\n",
    "    q4 = df_products.groupby('super_category').aggregate({\n",
    "        'asin' : 'count'\n",
    "    })\n",
    "    \n",
    "    #Q5\n",
    "    q5 = None\n",
    "    \n",
    "    \n",
    "    #Q6\n",
    "    #Parse JSON, then same as #5\n",
    "    q6 = None\n",
    "    \n",
    "    \n",
    "    end = time.time()\n",
    "    runtime = end-start\n",
    "    return runtime\n",
    "\n",
    "    # Write your results to \"results_PA1.json\" here\n",
    "    with open('OutputSchema_PA1.json','r') as json_file:\n",
    "        data = json.load(json_file)\n",
    "        print(data)\n",
    "\n",
    "        data['q1']['products'] = json.loads(q1_reviews.to_json())\n",
    "        data['q1']['reviews'] = json.loads(q1_products.to_json())\n",
    "        data['q2'] = q2\n",
    "        data['q3'] = json.loads(q3.to_json())\n",
    "        data['q4'] = json.loads(q4.to_json())\n",
    "        data['q5'] = q5\n",
    "        data['q6'] = q6\n",
    "    \n",
    "    # print(data)\n",
    "    with open('results_PA1.json', 'w') as outfile: json.dump(data, outfile)\n",
    "\n",
    "    \n",
    "    return runtime\n",
    "\n",
    "PA1(\"small_user_reviews_Release.csv\", \"small_products_Release.csv\")\n",
    "#PA1(\"user_reviews_Release.csv\", \"products_Release.csv\")"
   ]
  },
  {
   "cell_type": "code",
   "execution_count": null,
   "id": "27c6f84a",
   "metadata": {},
   "outputs": [],
   "source": []
  }
 ],
 "metadata": {
  "kernelspec": {
   "display_name": "Python 3",
   "language": "python",
   "name": "python3"
  },
  "language_info": {
   "codemirror_mode": {
    "name": "ipython",
    "version": 3
   },
   "file_extension": ".py",
   "mimetype": "text/x-python",
   "name": "python",
   "nbconvert_exporter": "python",
   "pygments_lexer": "ipython3",
   "version": "3.6.9"
  }
 },
 "nbformat": 4,
 "nbformat_minor": 5
}
